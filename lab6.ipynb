{
 "cells": [
  {
   "cell_type": "code",
   "execution_count": 36,
   "metadata": {},
   "outputs": [
    {
     "name": "stdout",
     "output_type": "stream",
     "text": [
      "Requirement already satisfied: gmpy2 in c:\\users\\huawei\\appdata\\local\\packages\\pythonsoftwarefoundation.python.3.11_qbz5n2kfra8p0\\localcache\\local-packages\\python311\\site-packages (2.2.1)\n",
      "Requirement already satisfied: cryptography in c:\\users\\huawei\\appdata\\local\\packages\\pythonsoftwarefoundation.python.3.11_qbz5n2kfra8p0\\localcache\\local-packages\\python311\\site-packages (44.0.2)\n",
      "Requirement already satisfied: cffi>=1.12 in c:\\users\\huawei\\appdata\\local\\packages\\pythonsoftwarefoundation.python.3.11_qbz5n2kfra8p0\\localcache\\local-packages\\python311\\site-packages (from cryptography) (1.17.1)\n",
      "Requirement already satisfied: pycparser in c:\\users\\huawei\\appdata\\local\\packages\\pythonsoftwarefoundation.python.3.11_qbz5n2kfra8p0\\localcache\\local-packages\\python311\\site-packages (from cffi>=1.12->cryptography) (2.22)\n",
      "Note: you may need to restart the kernel to use updated packages.\n"
     ]
    },
    {
     "name": "stderr",
     "output_type": "stream",
     "text": [
      "\n",
      "[notice] A new release of pip is available: 24.0 -> 25.0.1\n",
      "[notice] To update, run: C:\\Users\\HUAWEI\\AppData\\Local\\Microsoft\\WindowsApps\\PythonSoftwareFoundation.Python.3.11_qbz5n2kfra8p0\\python.exe -m pip install --upgrade pip\n"
     ]
    }
   ],
   "source": [
    "%pip install gmpy2 cryptography\n",
    "import os\n",
    "import time\n",
    "import itertools\n",
    "import gmpy2"
   ]
  },
  {
   "cell_type": "code",
   "execution_count": 37,
   "metadata": {},
   "outputs": [],
   "source": [
    "from cryptography.hazmat.backends import default_backend\n",
    "from cryptography.hazmat.primitives.asymmetric import rsa\n",
    "from cryptography.hazmat.primitives import serialization"
   ]
  },
  {
   "cell_type": "code",
   "execution_count": 38,
   "metadata": {},
   "outputs": [],
   "source": [
    "'''\n",
    "     код с использованием AES-GCM\n",
    "\n",
    "    Не шифруйте файл размером более 64 ГБ, поскольку у GCM есть ограничения!!!\n",
    "'''\n",
    "\n",
    "from cryptography.hazmat.backends import default_backend\n",
    "from cryptography.hazmat.primitives.kdf.scrypt import Scrypt\n",
    "from cryptography.hazmat.primitives.ciphers import Cipher, algorithms, modes\n",
    "import os, sys, struct\n",
    "\n",
    "READ_SIZE = 4096\n",
    "\n",
    "def encrypt_file(plainpath, cipherpath, password):\n",
    "    # Derive key with a random 16-byte salt\n",
    "    salt = os.urandom(16)\n",
    "    kdf = Scrypt(salt=salt, length=32, n=2**14, r=8, p=1,\n",
    "                    backend=default_backend())\n",
    "    key = kdf.derive(password)\n",
    "\n",
    "    # Generate a random 96-bit IV.\n",
    "    iv = os.urandom(12)\n",
    "\n",
    "    # Construct an AES-GCM Cipher object with the given key and IV.\n",
    "    encryptor = Cipher(\n",
    "        algorithms.AES(key),\n",
    "        modes.GCM(iv),\n",
    "    backend=default_backend()).encryptor()\n",
    "\n",
    "    associated_data = iv + salt\n",
    "\n",
    "    # associated_data will be authenticated but not encrypted,\n",
    "    # it must also be passed in on decryption.\n",
    "    encryptor.authenticate_additional_data(associated_data)\n",
    "    with open(cipherpath, \"wb+\") as fcipher:\n",
    "        # Make space for the header (12 + 16 + 16), overwritten last\n",
    "        fcipher.write(b\"\\x00\"*(12+16+16))\n",
    "\n",
    "        # Encrypt and write the main body\n",
    "        with open(plainpath, \"rb\") as fplain:\n",
    "            for plaintext in iter(lambda: fplain.read(READ_SIZE), b''):\n",
    "                ciphertext = encryptor.update(plaintext)\n",
    "                fcipher.write(ciphertext)\n",
    "            ciphertext = encryptor.finalize() # Always b''.\n",
    "            fcipher.write(ciphertext) # For clarity\n",
    "\n",
    "            header = associated_data + encryptor.tag\n",
    "            fcipher.seek(0,0)\n",
    "            fcipher.write(header)\n",
    "\n",
    "def decrypt_file(cipherpath, plainpath, password):\n",
    "    with open(cipherpath, \"rb\") as fcipher:\n",
    "    # read the IV (12 bytes) and the salt (16 bytes)\n",
    "        associated_data = fcipher.read(12+16)\n",
    "\n",
    "        iv = associated_data[0:12]\n",
    "        salt = associated_data[12:28]\n",
    "\n",
    "    # derive the same key from the password + salt\n",
    "        kdf = Scrypt(salt=salt, length=32, n=2**14, r=8, p=1, backend=default_backend())\n",
    "        key = kdf.derive(password)\n",
    "\n",
    "        # get the tag. GCM tags are always 16 bytes\n",
    "        tag = fcipher.read(16)\n",
    "\n",
    "        # Construct an AES-GCM Cipher object with the given key and IV\n",
    "        # For decryption, the tag is passed in as a parameter\n",
    "        decryptor = Cipher(\n",
    "                algorithms.AES(key),\n",
    "                modes.GCM(iv, tag),\n",
    "                backend=default_backend()).decryptor()\n",
    "        decryptor.authenticate_additional_data(associated_data)\n",
    "\n",
    "        with open(plainpath, \"wb+\") as fplain:\n",
    "            for ciphertext in iter(lambda: fcipher.read(READ_SIZE),b''):\n",
    "                plaintext = decryptor.update(ciphertext)\n",
    "                fplain.write(plaintext)"
   ]
  },
  {
   "cell_type": "code",
   "execution_count": 39,
   "metadata": {},
   "outputs": [
    {
     "name": "stdout",
     "output_type": "stream",
     "text": [
      "Ciphertext: b'\\x1f\\xc7\\xe4w\\xc7te\\x92\\x9e\\xf6\\x1b\\x1bN\\xeb\\x950\\xb1\\x08\\x1c\\xbfX\\xc8\\xaaG1J'\n",
      "Decrypted Message: Dinazavrik\n"
     ]
    }
   ],
   "source": [
    "from cryptography.hazmat.primitives.ciphers.aead import AESGCM\n",
    "\n",
    "key = AESGCM.generate_key(bit_length=256)\n",
    "aesgcm = AESGCM(key)\n",
    "nonce = os.urandom(12)  # Recommended size for GCM nonce\n",
    "\n",
    "plaintext = b\"Dinazavrik\"\n",
    "associated_data = b\"Additional data\"\n",
    "\n",
    "# Encrypt\n",
    "ciphertext = aesgcm.encrypt(nonce, plaintext, associated_data)\n",
    "print(f\"Ciphertext: {ciphertext}\")\n",
    "\n",
    "# Decrypt\n",
    "decrypted_text = aesgcm.decrypt(nonce, ciphertext, associated_data)\n",
    "print(f\"Decrypted Message: {decrypted_text.decode()}\")"
   ]
  },
  {
   "cell_type": "code",
   "execution_count": 40,
   "metadata": {},
   "outputs": [
    {
     "name": "stdout",
     "output_type": "stream",
     "text": [
      "Ciphertext: b'\\x97\\xc9D\\x90\\xda\\\\\\x97\\xdc\\xd7\\x83U\\xffq\\xc5\\xf66\\x8d2A\\xfe\\r\\xe4\\xf0\\x0c\\x89\\x05\\xc0\\xd0\\xc1o!\\xd5\\x82 B\\x00\\xf4\\xfe\\x00\\xfb\\xce\\x8e\\xba\\xbew%\\xf3\\xa1\\t\\x18\\x1eH1M\\xb5\\xe03\\xff\\xceG\\x8fE\\x04\\xcc\\x12\\x15F\\xddmy\\xf0\\xb1A\\xc7\\x01`\\xd1\\xae\\xcb\\x10^`\\xf7\\r\\xdf\\xbb\\x05Q\\x19\\xa4\\xc8G\\xae\\x95\\x1eOwX=\\x97\\x9e\\x7f\\xf6P\\xe9\\xb5]\\x02\\x9f!h\\xc0\\x8d\\xb9\\xa8\\x89k\\xc6Mx\\x15\\x9c?\\x06\\xf2\\xb8\\x0b\\x8e\\xee\\xbf\\x10\\xa1]\\x1fG\\x95\\x91\\xbb\\xe0\\xa1gE\\x8b\\x18c\\x8a#y\\x0c8Z\\x04[\\x01\\x91\\x1eGA;t\\xc8\\xf1FNe\\xc5\\xeb\\xa5\\xe8\\xa8\\no/C9\\xf3]hq\\x15L\\x19\\xa6\\xa0\\x84Z%\\xbc59\\xbe\\x87!\\xc5\\xc9\\xa2\\xf0tt\\x9f\\xbfyt\\xa0\\x8e\\x9b\\xa6\\xfa\\x9cl\\x9dN\\xf0\\x07\\x96\\xc8\\x07T\\xaf\\xe2\\xe2\\xc8\\xca\\x85\\x9b\\x9bm\\xf9\\x1c\\xf9k!\\xc2\\xb2 \\xba\\xa6\\xf3_d\\x93\\xa2\\x8c\\xd6\\x95P+l-\\xa5\\xbf\\xe6\\xc5\\x12\\xc7d'\n",
      "Decrypted Message: I love my cat\n"
     ]
    }
   ],
   "source": [
    "from cryptography.hazmat.primitives.asymmetric import rsa, padding\n",
    "from cryptography.hazmat.primitives import hashes\n",
    "\n",
    "# Generate RSA keys\n",
    "private_key = rsa.generate_private_key(public_exponent=65537, key_size=2048, backend=default_backend())\n",
    "public_key = private_key.public_key()\n",
    "\n",
    "# Encrypting\n",
    "message = b\"I love my cat\"\n",
    "ciphertext = public_key.encrypt(\n",
    "    message,\n",
    "    padding.OAEP(mgf=padding.MGF1(algorithm=hashes.SHA256()), algorithm=hashes.SHA256(), label=None)\n",
    ")\n",
    "print(f\"Ciphertext: {ciphertext}\")\n",
    "\n",
    "# Decrypting\n",
    "plaintext = private_key.decrypt(\n",
    "    ciphertext,\n",
    "    padding.OAEP(mgf=padding.MGF1(algorithm=hashes.SHA256()), algorithm=hashes.SHA256(), label=None)\n",
    ")\n",
    "print(f\"Decrypted Message: {plaintext.decode()}\")"
   ]
  },
  {
   "cell_type": "code",
   "execution_count": 41,
   "metadata": {},
   "outputs": [
    {
     "name": "stdout",
     "output_type": "stream",
     "text": [
      "Signature: b'\\x7f\\xde\\xfc\\xf8\\x7fU{Sr\\x16K\\n\\xa4\\xf1\\xb5\\xdb\\xc1E\\x15\\x98i\\xb3\\xb4\"\\xeb\\xbf\\xd8\\x166{\\x84\\xf7\\x98y\\xc1\\xbeS\\x95H\\xab!\\xab N\\xa4\\xcf$]y.;\\x94N\\x17w3\\xc70<f\\x0c\\x92\\xf2\\xdbP:I%HO\\xc5\\x1d*+3\\xdc\\xc3\\x95M\\x9c?\\xb3R\\xb3\\x82\\x99\\xeay\\xbe\\xe0\\x1e\\x82a\\x94\\xb0|\\x89\\x8a\\xe9s\\xa9\\xf1r\\xd8\\x99\\xcbY\\x9fI\\xfd\\xd8\\xd40\\x0c\\x05\\x01f>\\xe8\\xfa\\xd4\\xa5\\x95\\x8e?\\x02\\xe4\\xeem\\xd0\\x18\\xbf\\x968\\n\\x7f\\x8c\\xe2]\\xcco\\xee\\xe5\\x12\"\\xc0\\x03\\xe6\\xdawZ9\\xf3\\x9c\\xb2-\\xc92\\xec\\x88\\xfa2\\xfd\\xc0V\\x1e\\xfa\\x81\\xfe\\x04K\\x8ez*\\xf1\\xe6C\\xf6\\xbd\\x0b\\xbeU\\xd2\\xd34\\x81\\x9d\\xb8\\xb1\\x80\\x07\\r\\x1c\\x01t\\x8c\\xdc\\x96:\\x08\\x8f\\xb3 \\x17\\'Z\\x10\\xafa\\x8c\\x85\\xf5\\x89\\xa1\\x18\\xa8\\xe2R\\x12\\xc8\\x16Vm\\xe6\\xf4\\xbaX\\xfc\\x9d:\\x15k\\x10b\\x86\\xe4%$nA)\\n\\xdcaQ\\xa9[\\x95\\x04\\xae\\x1c=\\xd2\\x9d\\xd0\\x8d'\n",
      "Signature Verified\n"
     ]
    }
   ],
   "source": [
    "from cryptography.hazmat.primitives import serialization\n",
    "\n",
    "# Sign data\n",
    "signature = private_key.sign(\n",
    "    message,\n",
    "    padding.PSS(mgf=padding.MGF1(hashes.SHA256()), salt_length=padding.PSS.MAX_LENGTH),\n",
    "    hashes.SHA256()\n",
    ")\n",
    "print(f\"Signature: {signature}\")\n",
    "\n",
    "# Verify signature\n",
    "try:\n",
    "    public_key.verify(\n",
    "        signature,\n",
    "        message,\n",
    "        padding.PSS(mgf=padding.MGF1(hashes.SHA256()), salt_length=padding.PSS.MAX_LENGTH),\n",
    "        hashes.SHA256()\n",
    "    )\n",
    "    print(\"Signature Verified\")\n",
    "except Exception as e:\n",
    "    print(f\"Signature Verification Failed: {e}\")"
   ]
  },
  {
   "cell_type": "code",
   "execution_count": 42,
   "metadata": {},
   "outputs": [
    {
     "name": "stdout",
     "output_type": "stream",
     "text": [
      "SHA-256 Hash: f1aa45b0f5f6703468f9b9bc2b9874d4fa6b001a170d0f132aa5a26d00d0c7e5\n",
      "Derived Key: 14011f65f6a4e33d6585c47033dee03297754a3f6458208af5d08c80d1f5bfed\n",
      "Derived Key: d80d581a1500a4d1813403f9fb06b01637e769c3cd6fd4f3a9594115bd7f3dc1\n"
     ]
    }
   ],
   "source": [
    "from cryptography.hazmat.primitives.ciphers import Cipher, algorithms, modes\n",
    "from cryptography.hazmat.primitives.kdf.pbkdf2 import PBKDF2HMAC\n",
    "from cryptography.hazmat.primitives import hashes\n",
    "from cryptography.hazmat.primitives.kdf.scrypt import Scrypt\n",
    "from cryptography.hazmat.backends import default_backend\n",
    "import os\n",
    "from cryptography.hazmat.primitives import hashes\n",
    "\n",
    "digest = hashes.Hash(hashes.SHA256(), backend=default_backend())\n",
    "digest.update(b\"Message to hash\")\n",
    "hash_result = digest.finalize()\n",
    "print(f\"SHA-256 Hash: {hash_result.hex()}\")\n",
    "\n",
    "kdf = PBKDF2HMAC(\n",
    "    algorithm=hashes.SHA256(),\n",
    "    length=32,\n",
    "    salt=os.urandom(16),\n",
    "    iterations=100000,\n",
    "    backend=default_backend()\n",
    ")\n",
    "key = kdf.derive(b\"my password\")\n",
    "print(f\"Derived Key: {key.hex()}\")\n",
    "\n",
    "kdf = Scrypt(\n",
    "    salt=os.urandom(16),\n",
    "    length=32,\n",
    "    n=2**14,\n",
    "    r=8,\n",
    "    p=1,\n",
    "    backend=default_backend()\n",
    ")\n",
    "key = kdf.derive(b\"my password\")\n",
    "print(f\"Derived Key: {key.hex()}\")"
   ]
  },
  {
   "cell_type": "code",
   "execution_count": 43,
   "metadata": {},
   "outputs": [
    {
     "name": "stdout",
     "output_type": "stream",
     "text": [
      "Соль: fad24cd442ce3953c2105a0018e90bfd\n"
     ]
    },
    {
     "data": {
      "text/plain": [
       "b'a secret message'"
      ]
     },
     "execution_count": 43,
     "metadata": {},
     "output_type": "execute_result"
    }
   ],
   "source": [
    "import secrets\n",
    "\n",
    "# Сгенерируйте случайную соль в виде шестнадцатеричной строки\n",
    "salt = secrets.token_hex(16)  # 16 байт случайности — распространённый выбор\n",
    "print(\"Соль:\", salt)\n",
    "\n",
    "from cryptography.hazmat.primitives.ciphers.aead import AESGCM\n",
    "data = b\"a secret message\"\n",
    "aad = b\"authenticated but unencrypted data\"\n",
    "key = AESGCM.generate_key(bit_length=128)\n",
    "aesgcm = AESGCM(key)\n",
    "nonce = os.urandom(12)\n",
    "ct = aesgcm.encrypt(nonce, data, aad)\n",
    "aesgcm.decrypt(nonce, ct, aad)"
   ]
  },
  {
   "cell_type": "code",
   "execution_count": 44,
   "metadata": {},
   "outputs": [
    {
     "data": {
      "text/plain": [
       "b'a secret message'"
      ]
     },
     "execution_count": 44,
     "metadata": {},
     "output_type": "execute_result"
    }
   ],
   "source": [
    "import os\n",
    "from cryptography.hazmat.primitives.ciphers.aead import AESGCM\n",
    "data = b\"a secret message\"\n",
    "aad = b\"authenticated but unencrypted data\"\n",
    "key = AESGCM.generate_key(bit_length=128)\n",
    "aesgcm = AESGCM(key)\n",
    "nonce = os.urandom(12)\n",
    "ct = aesgcm.encrypt(nonce, data, aad)\n",
    "aesgcm.decrypt(nonce, ct, aad)\n"
   ]
  },
  {
   "cell_type": "code",
   "execution_count": 35,
   "metadata": {},
   "outputs": [
    {
     "data": {
      "text/plain": [
       "b'a secret message'"
      ]
     },
     "execution_count": 35,
     "metadata": {},
     "output_type": "execute_result"
    }
   ],
   "source": [
    "import os\n",
    "from cryptography.hazmat.primitives.ciphers.aead import ChaCha20Poly1305\n",
    "data = b\"a secret message\"\n",
    "aad = b\"authenticated but unencrypted data\"\n",
    "key = ChaCha20Poly1305.generate_key()\n",
    "chacha = ChaCha20Poly1305(key)\n",
    "nonce = os.urandom(12)\n",
    "ct = chacha.encrypt(nonce, data, aad)\n",
    "chacha.decrypt(nonce, ct, aad)"
   ]
  }
 ],
 "metadata": {
  "kernelspec": {
   "display_name": "Python 3",
   "language": "python",
   "name": "python3"
  },
  "language_info": {
   "codemirror_mode": {
    "name": "ipython",
    "version": 3
   },
   "file_extension": ".py",
   "mimetype": "text/x-python",
   "name": "python",
   "nbconvert_exporter": "python",
   "pygments_lexer": "ipython3",
   "version": "3.11.9"
  }
 },
 "nbformat": 4,
 "nbformat_minor": 2
}
